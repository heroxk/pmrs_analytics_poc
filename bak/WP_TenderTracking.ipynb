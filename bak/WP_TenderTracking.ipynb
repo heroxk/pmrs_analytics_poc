{
 "cells": [
  {
   "cell_type": "code",
   "execution_count": 1,
   "metadata": {},
   "outputs": [],
   "source": [
    "import pandas as pd"
   ]
  },
  {
   "cell_type": "code",
   "execution_count": 2,
   "metadata": {},
   "outputs": [
    {
     "name": "stdout",
     "output_type": "stream",
     "text": [
      "748\n"
     ]
    },
    {
     "data": {
      "text/html": [
       "<div>\n",
       "<style scoped>\n",
       "    .dataframe tbody tr th:only-of-type {\n",
       "        vertical-align: middle;\n",
       "    }\n",
       "\n",
       "    .dataframe tbody tr th {\n",
       "        vertical-align: top;\n",
       "    }\n",
       "\n",
       "    .dataframe thead th {\n",
       "        text-align: right;\n",
       "    }\n",
       "</style>\n",
       "<table border=\"1\" class=\"dataframe\">\n",
       "  <thead>\n",
       "    <tr style=\"text-align: right;\">\n",
       "      <th></th>\n",
       "      <th>VendorId</th>\n",
       "      <th>WorkPackageId</th>\n",
       "      <th>VendorSubmission</th>\n",
       "      <th>DocPath</th>\n",
       "      <th>RawPrice</th>\n",
       "      <th>InitialRanking</th>\n",
       "    </tr>\n",
       "  </thead>\n",
       "  <tbody>\n",
       "    <tr>\n",
       "      <th>744</th>\n",
       "      <td>760</td>\n",
       "      <td>52095</td>\n",
       "      <td>NaN</td>\n",
       "      <td>NaN</td>\n",
       "      <td>NaN</td>\n",
       "      <td>NaN</td>\n",
       "    </tr>\n",
       "    <tr>\n",
       "      <th>745</th>\n",
       "      <td>761</td>\n",
       "      <td>52095</td>\n",
       "      <td>NaN</td>\n",
       "      <td>NaN</td>\n",
       "      <td>NaN</td>\n",
       "      <td>NaN</td>\n",
       "    </tr>\n",
       "    <tr>\n",
       "      <th>746</th>\n",
       "      <td>762</td>\n",
       "      <td>52095</td>\n",
       "      <td>NaN</td>\n",
       "      <td>NaN</td>\n",
       "      <td>NaN</td>\n",
       "      <td>NaN</td>\n",
       "    </tr>\n",
       "    <tr>\n",
       "      <th>747</th>\n",
       "      <td>763</td>\n",
       "      <td>52095</td>\n",
       "      <td>NaN</td>\n",
       "      <td>NaN</td>\n",
       "      <td>NaN</td>\n",
       "      <td>NaN</td>\n",
       "    </tr>\n",
       "  </tbody>\n",
       "</table>\n",
       "</div>"
      ],
      "text/plain": [
       "     VendorId  WorkPackageId VendorSubmission DocPath  RawPrice  \\\n",
       "744       760          52095              NaN     NaN       NaN   \n",
       "745       761          52095              NaN     NaN       NaN   \n",
       "746       762          52095              NaN     NaN       NaN   \n",
       "747       763          52095              NaN     NaN       NaN   \n",
       "\n",
       "     InitialRanking  \n",
       "744             NaN  \n",
       "745             NaN  \n",
       "746             NaN  \n",
       "747             NaN  "
      ]
     },
     "metadata": {},
     "output_type": "display_data"
    }
   ],
   "source": [
    "table_name = 'WP_TenderTracking'\n",
    "WP_TenderTracking = pd.read_csv(f\"all_tables/{table_name}.csv\")    \n",
    "print(WP_TenderTracking.shape[0])        \n",
    "display(WP_TenderTracking.tail(4))"
   ]
  },
  {
   "cell_type": "code",
   "execution_count": 3,
   "metadata": {},
   "outputs": [
    {
     "data": {
      "text/html": [
       "<div>\n",
       "<style scoped>\n",
       "    .dataframe tbody tr th:only-of-type {\n",
       "        vertical-align: middle;\n",
       "    }\n",
       "\n",
       "    .dataframe tbody tr th {\n",
       "        vertical-align: top;\n",
       "    }\n",
       "\n",
       "    .dataframe thead th {\n",
       "        text-align: right;\n",
       "    }\n",
       "</style>\n",
       "<table border=\"1\" class=\"dataframe\">\n",
       "  <thead>\n",
       "    <tr style=\"text-align: right;\">\n",
       "      <th></th>\n",
       "      <th>VendorId</th>\n",
       "      <th>WorkPackageId</th>\n",
       "      <th>VendorSubmission</th>\n",
       "      <th>DocPath</th>\n",
       "      <th>RawPrice</th>\n",
       "      <th>InitialRanking</th>\n",
       "    </tr>\n",
       "  </thead>\n",
       "  <tbody>\n",
       "    <tr>\n",
       "      <th>679</th>\n",
       "      <td>695</td>\n",
       "      <td>51787</td>\n",
       "      <td>NaN</td>\n",
       "      <td>S:\\FSD-Projects\\18-External\\1477 CL Multi Buil...</td>\n",
       "      <td>185500.0</td>\n",
       "      <td>2.0</td>\n",
       "    </tr>\n",
       "    <tr>\n",
       "      <th>680</th>\n",
       "      <td>696</td>\n",
       "      <td>51787</td>\n",
       "      <td>NaN</td>\n",
       "      <td>S:\\FSD-Projects\\18-External\\1477 CL Multi Buil...</td>\n",
       "      <td>130000.0</td>\n",
       "      <td>1.0</td>\n",
       "    </tr>\n",
       "    <tr>\n",
       "      <th>681</th>\n",
       "      <td>697</td>\n",
       "      <td>51787</td>\n",
       "      <td>NaN</td>\n",
       "      <td>S:\\FSD-Projects\\18-External\\1477 CL Multi Buil...</td>\n",
       "      <td>281000.0</td>\n",
       "      <td>3.0</td>\n",
       "    </tr>\n",
       "  </tbody>\n",
       "</table>\n",
       "</div>"
      ],
      "text/plain": [
       "     VendorId  WorkPackageId VendorSubmission  \\\n",
       "679       695          51787              NaN   \n",
       "680       696          51787              NaN   \n",
       "681       697          51787              NaN   \n",
       "\n",
       "                                               DocPath  RawPrice  \\\n",
       "679  S:\\FSD-Projects\\18-External\\1477 CL Multi Buil...  185500.0   \n",
       "680  S:\\FSD-Projects\\18-External\\1477 CL Multi Buil...  130000.0   \n",
       "681  S:\\FSD-Projects\\18-External\\1477 CL Multi Buil...  281000.0   \n",
       "\n",
       "     InitialRanking  \n",
       "679             2.0  \n",
       "680             1.0  \n",
       "681             3.0  "
      ]
     },
     "execution_count": 3,
     "metadata": {},
     "output_type": "execute_result"
    }
   ],
   "source": [
    "WP_TenderTracking[WP_TenderTracking['WorkPackageId']==51787]"
   ]
  },
  {
   "cell_type": "code",
   "execution_count": null,
   "metadata": {},
   "outputs": [],
   "source": []
  }
 ],
 "metadata": {
  "kernelspec": {
   "display_name": "Python 3",
   "language": "python",
   "name": "python3"
  },
  "language_info": {
   "codemirror_mode": {
    "name": "ipython",
    "version": 3
   },
   "file_extension": ".py",
   "mimetype": "text/x-python",
   "name": "python",
   "nbconvert_exporter": "python",
   "pygments_lexer": "ipython3",
   "version": "3.7.3"
  }
 },
 "nbformat": 4,
 "nbformat_minor": 4
}
