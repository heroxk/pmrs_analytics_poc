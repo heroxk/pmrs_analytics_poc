{
 "cells": [
  {
   "cell_type": "code",
   "execution_count": 2,
   "metadata": {},
   "outputs": [],
   "source": [
    "import pandas as pd"
   ]
  },
  {
   "cell_type": "code",
   "execution_count": 4,
   "metadata": {},
   "outputs": [
    {
     "name": "stdout",
     "output_type": "stream",
     "text": [
      "577886\n"
     ]
    },
    {
     "data": {
      "text/html": [
       "<div>\n",
       "<style scoped>\n",
       "    .dataframe tbody tr th:only-of-type {\n",
       "        vertical-align: middle;\n",
       "    }\n",
       "\n",
       "    .dataframe tbody tr th {\n",
       "        vertical-align: top;\n",
       "    }\n",
       "\n",
       "    .dataframe thead th {\n",
       "        text-align: right;\n",
       "    }\n",
       "</style>\n",
       "<table border=\"1\" class=\"dataframe\">\n",
       "  <thead>\n",
       "    <tr style=\"text-align: right;\">\n",
       "      <th></th>\n",
       "      <th>UID</th>\n",
       "      <th>ChecklistTemplateID</th>\n",
       "      <th>ProjectID</th>\n",
       "      <th>Applicable</th>\n",
       "      <th>Checked</th>\n",
       "      <th>Delayed</th>\n",
       "      <th>commentshow</th>\n",
       "      <th>comments</th>\n",
       "      <th>isCommentsClosed</th>\n",
       "    </tr>\n",
       "  </thead>\n",
       "  <tbody>\n",
       "    <tr>\n",
       "      <th>577882</th>\n",
       "      <td>624838</td>\n",
       "      <td>520</td>\n",
       "      <td>1505</td>\n",
       "      <td>False</td>\n",
       "      <td>False</td>\n",
       "      <td>0</td>\n",
       "      <td>NaN</td>\n",
       "      <td>NaN</td>\n",
       "      <td>False</td>\n",
       "    </tr>\n",
       "    <tr>\n",
       "      <th>577883</th>\n",
       "      <td>624839</td>\n",
       "      <td>521</td>\n",
       "      <td>1505</td>\n",
       "      <td>False</td>\n",
       "      <td>False</td>\n",
       "      <td>0</td>\n",
       "      <td>NaN</td>\n",
       "      <td>NaN</td>\n",
       "      <td>False</td>\n",
       "    </tr>\n",
       "    <tr>\n",
       "      <th>577884</th>\n",
       "      <td>624840</td>\n",
       "      <td>522</td>\n",
       "      <td>1505</td>\n",
       "      <td>False</td>\n",
       "      <td>False</td>\n",
       "      <td>0</td>\n",
       "      <td>NaN</td>\n",
       "      <td>NaN</td>\n",
       "      <td>False</td>\n",
       "    </tr>\n",
       "    <tr>\n",
       "      <th>577885</th>\n",
       "      <td>624841</td>\n",
       "      <td>523</td>\n",
       "      <td>1505</td>\n",
       "      <td>False</td>\n",
       "      <td>False</td>\n",
       "      <td>0</td>\n",
       "      <td>NaN</td>\n",
       "      <td>NaN</td>\n",
       "      <td>False</td>\n",
       "    </tr>\n",
       "  </tbody>\n",
       "</table>\n",
       "</div>"
      ],
      "text/plain": [
       "           UID  ChecklistTemplateID  ProjectID  Applicable  Checked  Delayed  \\\n",
       "577882  624838                  520       1505       False    False        0   \n",
       "577883  624839                  521       1505       False    False        0   \n",
       "577884  624840                  522       1505       False    False        0   \n",
       "577885  624841                  523       1505       False    False        0   \n",
       "\n",
       "       commentshow comments  isCommentsClosed  \n",
       "577882         NaN      NaN             False  \n",
       "577883         NaN      NaN             False  \n",
       "577884         NaN      NaN             False  \n",
       "577885         NaN      NaN             False  "
      ]
     },
     "metadata": {},
     "output_type": "display_data"
    }
   ],
   "source": [
    "table_name = 'CHECKLIST'\n",
    "CHECKLIST = pd.read_csv(f\"all_tables/{table_name}.csv\")    \n",
    "print(CHECKLIST.shape[0])        \n",
    "display(CHECKLIST.tail(4))"
   ]
  },
  {
   "cell_type": "code",
   "execution_count": 5,
   "metadata": {},
   "outputs": [
    {
     "data": {
      "text/html": [
       "<div>\n",
       "<style scoped>\n",
       "    .dataframe tbody tr th:only-of-type {\n",
       "        vertical-align: middle;\n",
       "    }\n",
       "\n",
       "    .dataframe tbody tr th {\n",
       "        vertical-align: top;\n",
       "    }\n",
       "\n",
       "    .dataframe thead th {\n",
       "        text-align: right;\n",
       "    }\n",
       "</style>\n",
       "<table border=\"1\" class=\"dataframe\">\n",
       "  <thead>\n",
       "    <tr style=\"text-align: right;\">\n",
       "      <th></th>\n",
       "      <th>UID</th>\n",
       "      <th>ChecklistTemplateID</th>\n",
       "      <th>ProjectID</th>\n",
       "      <th>Applicable</th>\n",
       "      <th>Checked</th>\n",
       "      <th>Delayed</th>\n",
       "      <th>commentshow</th>\n",
       "      <th>comments</th>\n",
       "      <th>isCommentsClosed</th>\n",
       "    </tr>\n",
       "  </thead>\n",
       "  <tbody>\n",
       "    <tr>\n",
       "      <th>48403</th>\n",
       "      <td>51787</td>\n",
       "      <td>236</td>\n",
       "      <td>254</td>\n",
       "      <td>True</td>\n",
       "      <td>False</td>\n",
       "      <td>10</td>\n",
       "      <td>True</td>\n",
       "      <td>NaN</td>\n",
       "      <td>False</td>\n",
       "    </tr>\n",
       "  </tbody>\n",
       "</table>\n",
       "</div>"
      ],
      "text/plain": [
       "         UID  ChecklistTemplateID  ProjectID  Applicable  Checked  Delayed  \\\n",
       "48403  51787                  236        254        True    False       10   \n",
       "\n",
       "      commentshow comments  isCommentsClosed  \n",
       "48403        True      NaN             False  "
      ]
     },
     "execution_count": 5,
     "metadata": {},
     "output_type": "execute_result"
    }
   ],
   "source": [
    "CHECKLIST[CHECKLIST['UID']==51787]"
   ]
  },
  {
   "cell_type": "code",
   "execution_count": 6,
   "metadata": {},
   "outputs": [
    {
     "data": {
      "text/plain": [
       "0         0\n",
       "1         0\n",
       "2         0\n",
       "3         7\n",
       "4         7\n",
       "5         7\n",
       "6         7\n",
       "7         7\n",
       "8         7\n",
       "9         7\n",
       "10        7\n",
       "11        7\n",
       "12        7\n",
       "13        7\n",
       "14        7\n",
       "15        7\n",
       "16        7\n",
       "17        7\n",
       "18        7\n",
       "19        7\n",
       "20        7\n",
       "21        7\n",
       "22        7\n",
       "23        7\n",
       "24        7\n",
       "25        7\n",
       "26        7\n",
       "27        7\n",
       "28        7\n",
       "29        7\n",
       "         ..\n",
       "577856    0\n",
       "577857    0\n",
       "577858    0\n",
       "577859    0\n",
       "577860    0\n",
       "577861    0\n",
       "577862    0\n",
       "577863    0\n",
       "577864    0\n",
       "577865    0\n",
       "577866    0\n",
       "577867    0\n",
       "577868    0\n",
       "577869    0\n",
       "577870    0\n",
       "577871    0\n",
       "577872    0\n",
       "577873    0\n",
       "577874    0\n",
       "577875    0\n",
       "577876    0\n",
       "577877    0\n",
       "577878    0\n",
       "577879    0\n",
       "577880    0\n",
       "577881    0\n",
       "577882    0\n",
       "577883    0\n",
       "577884    0\n",
       "577885    0\n",
       "Name: Delayed, Length: 577886, dtype: int64"
      ]
     },
     "execution_count": 6,
     "metadata": {},
     "output_type": "execute_result"
    }
   ],
   "source": [
    "CHECKLIST['Delayed']"
   ]
  },
  {
   "cell_type": "code",
   "execution_count": null,
   "metadata": {},
   "outputs": [],
   "source": []
  }
 ],
 "metadata": {
  "kernelspec": {
   "display_name": "Python 3",
   "language": "python",
   "name": "python3"
  },
  "language_info": {
   "codemirror_mode": {
    "name": "ipython",
    "version": 3
   },
   "file_extension": ".py",
   "mimetype": "text/x-python",
   "name": "python",
   "nbconvert_exporter": "python",
   "pygments_lexer": "ipython3",
   "version": "3.7.3"
  }
 },
 "nbformat": 4,
 "nbformat_minor": 4
}
