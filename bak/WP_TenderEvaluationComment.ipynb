{
 "cells": [
  {
   "cell_type": "code",
   "execution_count": 17,
   "metadata": {},
   "outputs": [],
   "source": [
    "import pandas as pd"
   ]
  },
  {
   "cell_type": "code",
   "execution_count": 18,
   "metadata": {},
   "outputs": [
    {
     "name": "stdout",
     "output_type": "stream",
     "text": [
      "453\n"
     ]
    },
    {
     "data": {
      "text/html": [
       "<div>\n",
       "<style scoped>\n",
       "    .dataframe tbody tr th:only-of-type {\n",
       "        vertical-align: middle;\n",
       "    }\n",
       "\n",
       "    .dataframe tbody tr th {\n",
       "        vertical-align: top;\n",
       "    }\n",
       "\n",
       "    .dataframe thead th {\n",
       "        text-align: right;\n",
       "    }\n",
       "</style>\n",
       "<table border=\"1\" class=\"dataframe\">\n",
       "  <thead>\n",
       "    <tr style=\"text-align: right;\">\n",
       "      <th></th>\n",
       "      <th>UID</th>\n",
       "      <th>WorkPackageId</th>\n",
       "      <th>MemberName</th>\n",
       "      <th>MemberPosition</th>\n",
       "      <th>MemberComments</th>\n",
       "      <th>IsCommentClosed</th>\n",
       "    </tr>\n",
       "  </thead>\n",
       "  <tbody>\n",
       "    <tr>\n",
       "      <th>449</th>\n",
       "      <td>465</td>\n",
       "      <td>50002</td>\n",
       "      <td>Aarron Cowen</td>\n",
       "      <td>PM, BPD</td>\n",
       "      <td>NaN</td>\n",
       "      <td>NaN</td>\n",
       "    </tr>\n",
       "    <tr>\n",
       "      <th>450</th>\n",
       "      <td>466</td>\n",
       "      <td>50002</td>\n",
       "      <td>Justin Trowell</td>\n",
       "      <td>Asset Planning Engineer, BPD</td>\n",
       "      <td>NaN</td>\n",
       "      <td>NaN</td>\n",
       "    </tr>\n",
       "    <tr>\n",
       "      <th>451</th>\n",
       "      <td>467</td>\n",
       "      <td>50002</td>\n",
       "      <td>Chris Morgan</td>\n",
       "      <td>Electrical Services Coordinator, BPD</td>\n",
       "      <td>NaN</td>\n",
       "      <td>NaN</td>\n",
       "    </tr>\n",
       "    <tr>\n",
       "      <th>452</th>\n",
       "      <td>468</td>\n",
       "      <td>50002</td>\n",
       "      <td>TBA</td>\n",
       "      <td>Electrical Consultant</td>\n",
       "      <td>NaN</td>\n",
       "      <td>NaN</td>\n",
       "    </tr>\n",
       "  </tbody>\n",
       "</table>\n",
       "</div>"
      ],
      "text/plain": [
       "     UID  WorkPackageId      MemberName                        MemberPosition  \\\n",
       "449  465          50002    Aarron Cowen                               PM, BPD   \n",
       "450  466          50002  Justin Trowell          Asset Planning Engineer, BPD   \n",
       "451  467          50002    Chris Morgan  Electrical Services Coordinator, BPD   \n",
       "452  468          50002             TBA                 Electrical Consultant   \n",
       "\n",
       "     MemberComments  IsCommentClosed  \n",
       "449             NaN              NaN  \n",
       "450             NaN              NaN  \n",
       "451             NaN              NaN  \n",
       "452             NaN              NaN  "
      ]
     },
     "metadata": {},
     "output_type": "display_data"
    }
   ],
   "source": [
    "table_name = 'WP_Member'\n",
    "WP_Member = pd.read_csv(f\"all_tables/{table_name}.csv\")    \n",
    "print(WP_Member.shape[0])        \n",
    "display(WP_Member.tail(4))"
   ]
  },
  {
   "cell_type": "code",
   "execution_count": 19,
   "metadata": {},
   "outputs": [
    {
     "data": {
      "text/html": [
       "<div>\n",
       "<style scoped>\n",
       "    .dataframe tbody tr th:only-of-type {\n",
       "        vertical-align: middle;\n",
       "    }\n",
       "\n",
       "    .dataframe tbody tr th {\n",
       "        vertical-align: top;\n",
       "    }\n",
       "\n",
       "    .dataframe thead th {\n",
       "        text-align: right;\n",
       "    }\n",
       "</style>\n",
       "<table border=\"1\" class=\"dataframe\">\n",
       "  <thead>\n",
       "    <tr style=\"text-align: right;\">\n",
       "      <th></th>\n",
       "      <th>UID</th>\n",
       "      <th>WorkPackageId</th>\n",
       "      <th>MemberName</th>\n",
       "      <th>MemberPosition</th>\n",
       "      <th>MemberComments</th>\n",
       "      <th>IsCommentClosed</th>\n",
       "    </tr>\n",
       "  </thead>\n",
       "  <tbody>\n",
       "    <tr>\n",
       "      <th>423</th>\n",
       "      <td>439</td>\n",
       "      <td>51787</td>\n",
       "      <td>Alexis Kouts</td>\n",
       "      <td>SPM, BPD</td>\n",
       "      <td>NaN</td>\n",
       "      <td>NaN</td>\n",
       "    </tr>\n",
       "    <tr>\n",
       "      <th>424</th>\n",
       "      <td>440</td>\n",
       "      <td>51787</td>\n",
       "      <td>Axel Keert</td>\n",
       "      <td>SPM&amp;TL, BPD</td>\n",
       "      <td>NaN</td>\n",
       "      <td>NaN</td>\n",
       "    </tr>\n",
       "  </tbody>\n",
       "</table>\n",
       "</div>"
      ],
      "text/plain": [
       "     UID  WorkPackageId    MemberName MemberPosition  MemberComments  \\\n",
       "423  439          51787  Alexis Kouts       SPM, BPD             NaN   \n",
       "424  440          51787    Axel Keert    SPM&TL, BPD             NaN   \n",
       "\n",
       "     IsCommentClosed  \n",
       "423              NaN  \n",
       "424              NaN  "
      ]
     },
     "execution_count": 19,
     "metadata": {},
     "output_type": "execute_result"
    }
   ],
   "source": [
    "WP_Member[WP_Member['WorkPackageId']==51787]"
   ]
  },
  {
   "cell_type": "code",
   "execution_count": null,
   "metadata": {},
   "outputs": [],
   "source": []
  }
 ],
 "metadata": {
  "kernelspec": {
   "display_name": "Python 3",
   "language": "python",
   "name": "python3"
  },
  "language_info": {
   "codemirror_mode": {
    "name": "ipython",
    "version": 3
   },
   "file_extension": ".py",
   "mimetype": "text/x-python",
   "name": "python",
   "nbconvert_exporter": "python",
   "pygments_lexer": "ipython3",
   "version": "3.7.3"
  }
 },
 "nbformat": 4,
 "nbformat_minor": 4
}
