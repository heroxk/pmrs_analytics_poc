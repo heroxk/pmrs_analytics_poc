{
 "cells": [
  {
   "cell_type": "code",
   "execution_count": 1,
   "metadata": {},
   "outputs": [],
   "source": [
    "import pandas as pd"
   ]
  },
  {
   "cell_type": "code",
   "execution_count": 5,
   "metadata": {},
   "outputs": [
    {
     "name": "stdout",
     "output_type": "stream",
     "text": [
      "620278\n"
     ]
    },
    {
     "data": {
      "text/html": [
       "<div>\n",
       "<style scoped>\n",
       "    .dataframe tbody tr th:only-of-type {\n",
       "        vertical-align: middle;\n",
       "    }\n",
       "\n",
       "    .dataframe tbody tr th {\n",
       "        vertical-align: top;\n",
       "    }\n",
       "\n",
       "    .dataframe thead th {\n",
       "        text-align: right;\n",
       "    }\n",
       "</style>\n",
       "<table border=\"1\" class=\"dataframe\">\n",
       "  <thead>\n",
       "    <tr style=\"text-align: right;\">\n",
       "      <th></th>\n",
       "      <th>UID</th>\n",
       "      <th>HISTORY_ID</th>\n",
       "      <th>MONTH</th>\n",
       "      <th>MONTH_ID</th>\n",
       "      <th>AMOUNT</th>\n",
       "    </tr>\n",
       "  </thead>\n",
       "  <tbody>\n",
       "    <tr>\n",
       "      <th>620274</th>\n",
       "      <td>780988</td>\n",
       "      <td>21867</td>\n",
       "      <td>2023-09</td>\n",
       "      <td>201</td>\n",
       "      <td>0.0</td>\n",
       "    </tr>\n",
       "    <tr>\n",
       "      <th>620275</th>\n",
       "      <td>780989</td>\n",
       "      <td>21867</td>\n",
       "      <td>2023-10</td>\n",
       "      <td>202</td>\n",
       "      <td>0.0</td>\n",
       "    </tr>\n",
       "    <tr>\n",
       "      <th>620276</th>\n",
       "      <td>780990</td>\n",
       "      <td>21867</td>\n",
       "      <td>2023-11</td>\n",
       "      <td>203</td>\n",
       "      <td>0.0</td>\n",
       "    </tr>\n",
       "    <tr>\n",
       "      <th>620277</th>\n",
       "      <td>780991</td>\n",
       "      <td>21867</td>\n",
       "      <td>2023-12</td>\n",
       "      <td>204</td>\n",
       "      <td>0.0</td>\n",
       "    </tr>\n",
       "  </tbody>\n",
       "</table>\n",
       "</div>"
      ],
      "text/plain": [
       "           UID  HISTORY_ID    MONTH  MONTH_ID  AMOUNT\n",
       "620274  780988       21867  2023-09       201     0.0\n",
       "620275  780989       21867  2023-10       202     0.0\n",
       "620276  780990       21867  2023-11       203     0.0\n",
       "620277  780991       21867  2023-12       204     0.0"
      ]
     },
     "metadata": {},
     "output_type": "display_data"
    }
   ],
   "source": [
    "table_name = 'KPI_HISTORY_DATA_DETAILS'\n",
    "KPI_HISTORY_DATA_DETAILS = pd.read_csv(f\"all_tables/{table_name}.csv\")    \n",
    "print(KPI_HISTORY_DATA_DETAILS.shape[0])        \n",
    "display(KPI_HISTORY_DATA_DETAILS.tail(4))"
   ]
  },
  {
   "cell_type": "code",
   "execution_count": 7,
   "metadata": {},
   "outputs": [
    {
     "data": {
      "text/html": [
       "<div>\n",
       "<style scoped>\n",
       "    .dataframe tbody tr th:only-of-type {\n",
       "        vertical-align: middle;\n",
       "    }\n",
       "\n",
       "    .dataframe tbody tr th {\n",
       "        vertical-align: top;\n",
       "    }\n",
       "\n",
       "    .dataframe thead th {\n",
       "        text-align: right;\n",
       "    }\n",
       "</style>\n",
       "<table border=\"1\" class=\"dataframe\">\n",
       "  <thead>\n",
       "    <tr style=\"text-align: right;\">\n",
       "      <th></th>\n",
       "      <th>UID</th>\n",
       "      <th>HISTORY_ID</th>\n",
       "      <th>MONTH</th>\n",
       "      <th>MONTH_ID</th>\n",
       "      <th>AMOUNT</th>\n",
       "    </tr>\n",
       "  </thead>\n",
       "  <tbody>\n",
       "    <tr>\n",
       "      <th>51786</th>\n",
       "      <td>51787</td>\n",
       "      <td>13816</td>\n",
       "      <td>2017-07</td>\n",
       "      <td>127</td>\n",
       "      <td>5.0</td>\n",
       "    </tr>\n",
       "  </tbody>\n",
       "</table>\n",
       "</div>"
      ],
      "text/plain": [
       "         UID  HISTORY_ID    MONTH  MONTH_ID  AMOUNT\n",
       "51786  51787       13816  2017-07       127     5.0"
      ]
     },
     "execution_count": 7,
     "metadata": {},
     "output_type": "execute_result"
    }
   ],
   "source": [
    "KPI_HISTORY_DATA_DETAILS[KPI_HISTORY_DATA_DETAILS['UID']==51787]"
   ]
  },
  {
   "cell_type": "code",
   "execution_count": null,
   "metadata": {},
   "outputs": [],
   "source": []
  }
 ],
 "metadata": {
  "kernelspec": {
   "display_name": "Python 3",
   "language": "python",
   "name": "python3"
  },
  "language_info": {
   "codemirror_mode": {
    "name": "ipython",
    "version": 3
   },
   "file_extension": ".py",
   "mimetype": "text/x-python",
   "name": "python",
   "nbconvert_exporter": "python",
   "pygments_lexer": "ipython3",
   "version": "3.7.3"
  }
 },
 "nbformat": 4,
 "nbformat_minor": 4
}
