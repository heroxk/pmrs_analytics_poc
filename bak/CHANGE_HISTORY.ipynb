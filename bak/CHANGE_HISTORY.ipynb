{
 "cells": [
  {
   "cell_type": "code",
   "execution_count": 1,
   "metadata": {},
   "outputs": [],
   "source": [
    "import pandas as pd"
   ]
  },
  {
   "cell_type": "code",
   "execution_count": 2,
   "metadata": {},
   "outputs": [
    {
     "name": "stdout",
     "output_type": "stream",
     "text": [
      "61342\n"
     ]
    },
    {
     "data": {
      "text/html": [
       "<div>\n",
       "<style scoped>\n",
       "    .dataframe tbody tr th:only-of-type {\n",
       "        vertical-align: middle;\n",
       "    }\n",
       "\n",
       "    .dataframe tbody tr th {\n",
       "        vertical-align: top;\n",
       "    }\n",
       "\n",
       "    .dataframe thead th {\n",
       "        text-align: right;\n",
       "    }\n",
       "</style>\n",
       "<table border=\"1\" class=\"dataframe\">\n",
       "  <thead>\n",
       "    <tr style=\"text-align: right;\">\n",
       "      <th></th>\n",
       "      <th>UID</th>\n",
       "      <th>CHANGE_OBJECT_ID</th>\n",
       "      <th>ACTION_TYPE</th>\n",
       "      <th>ACTION_DATE</th>\n",
       "      <th>ACTION_BY</th>\n",
       "      <th>CHANGE_ORDER_NUMBER</th>\n",
       "    </tr>\n",
       "  </thead>\n",
       "  <tbody>\n",
       "    <tr>\n",
       "      <th>61338</th>\n",
       "      <td>62260</td>\n",
       "      <td>1015</td>\n",
       "      <td>Forecast Final Cost</td>\n",
       "      <td>2019-09-23 11:57:16.383</td>\n",
       "      <td>519.0</td>\n",
       "      <td>20019545</td>\n",
       "    </tr>\n",
       "    <tr>\n",
       "      <th>61339</th>\n",
       "      <td>62261</td>\n",
       "      <td>1015</td>\n",
       "      <td>Forecast Final Cost</td>\n",
       "      <td>2019-09-23 11:57:30.883</td>\n",
       "      <td>519.0</td>\n",
       "      <td>20019545</td>\n",
       "    </tr>\n",
       "    <tr>\n",
       "      <th>61340</th>\n",
       "      <td>62262</td>\n",
       "      <td>1015</td>\n",
       "      <td>Forecast Final Cost</td>\n",
       "      <td>2019-09-23 11:57:40.210</td>\n",
       "      <td>519.0</td>\n",
       "      <td>20019545</td>\n",
       "    </tr>\n",
       "    <tr>\n",
       "      <th>61341</th>\n",
       "      <td>62263</td>\n",
       "      <td>1015</td>\n",
       "      <td>Forecast Final Cost</td>\n",
       "      <td>2019-09-23 11:57:51.803</td>\n",
       "      <td>519.0</td>\n",
       "      <td>20019545</td>\n",
       "    </tr>\n",
       "  </tbody>\n",
       "</table>\n",
       "</div>"
      ],
      "text/plain": [
       "         UID  CHANGE_OBJECT_ID          ACTION_TYPE              ACTION_DATE  \\\n",
       "61338  62260              1015  Forecast Final Cost  2019-09-23 11:57:16.383   \n",
       "61339  62261              1015  Forecast Final Cost  2019-09-23 11:57:30.883   \n",
       "61340  62262              1015  Forecast Final Cost  2019-09-23 11:57:40.210   \n",
       "61341  62263              1015  Forecast Final Cost  2019-09-23 11:57:51.803   \n",
       "\n",
       "       ACTION_BY CHANGE_ORDER_NUMBER  \n",
       "61338      519.0            20019545  \n",
       "61339      519.0            20019545  \n",
       "61340      519.0            20019545  \n",
       "61341      519.0            20019545  "
      ]
     },
     "metadata": {},
     "output_type": "display_data"
    }
   ],
   "source": [
    "table_name = 'CHANGE_HISTORY'\n",
    "WP_TenderEvaluation = pd.read_csv(f\"all_tables/{table_name}.csv\")    \n",
    "print(WP_TenderEvaluation.shape[0])        \n",
    "display(WP_TenderEvaluation.tail(4))"
   ]
  },
  {
   "cell_type": "code",
   "execution_count": 3,
   "metadata": {},
   "outputs": [
    {
     "data": {
      "text/html": [
       "<div>\n",
       "<style scoped>\n",
       "    .dataframe tbody tr th:only-of-type {\n",
       "        vertical-align: middle;\n",
       "    }\n",
       "\n",
       "    .dataframe tbody tr th {\n",
       "        vertical-align: top;\n",
       "    }\n",
       "\n",
       "    .dataframe thead th {\n",
       "        text-align: right;\n",
       "    }\n",
       "</style>\n",
       "<table border=\"1\" class=\"dataframe\">\n",
       "  <thead>\n",
       "    <tr style=\"text-align: right;\">\n",
       "      <th></th>\n",
       "      <th>UID</th>\n",
       "      <th>CHANGE_OBJECT_ID</th>\n",
       "      <th>ACTION_TYPE</th>\n",
       "      <th>ACTION_DATE</th>\n",
       "      <th>ACTION_BY</th>\n",
       "      <th>CHANGE_ORDER_NUMBER</th>\n",
       "    </tr>\n",
       "  </thead>\n",
       "  <tbody>\n",
       "    <tr>\n",
       "      <th>50865</th>\n",
       "      <td>51787</td>\n",
       "      <td>1120</td>\n",
       "      <td>Forecast Final Cost</td>\n",
       "      <td>2018-08-23 12:29:08.113</td>\n",
       "      <td>538.0</td>\n",
       "      <td>NaN</td>\n",
       "    </tr>\n",
       "  </tbody>\n",
       "</table>\n",
       "</div>"
      ],
      "text/plain": [
       "         UID  CHANGE_OBJECT_ID          ACTION_TYPE              ACTION_DATE  \\\n",
       "50865  51787              1120  Forecast Final Cost  2018-08-23 12:29:08.113   \n",
       "\n",
       "       ACTION_BY CHANGE_ORDER_NUMBER  \n",
       "50865      538.0                 NaN  "
      ]
     },
     "execution_count": 3,
     "metadata": {},
     "output_type": "execute_result"
    }
   ],
   "source": [
    "WP_TenderEvaluation[WP_TenderEvaluation['UID']==51787]"
   ]
  },
  {
   "cell_type": "code",
   "execution_count": null,
   "metadata": {},
   "outputs": [],
   "source": []
  },
  {
   "cell_type": "code",
   "execution_count": null,
   "metadata": {},
   "outputs": [],
   "source": []
  }
 ],
 "metadata": {
  "kernelspec": {
   "display_name": "Python 3",
   "language": "python",
   "name": "python3"
  },
  "language_info": {
   "codemirror_mode": {
    "name": "ipython",
    "version": 3
   },
   "file_extension": ".py",
   "mimetype": "text/x-python",
   "name": "python",
   "nbconvert_exporter": "python",
   "pygments_lexer": "ipython3",
   "version": "3.7.3"
  }
 },
 "nbformat": 4,
 "nbformat_minor": 4
}
