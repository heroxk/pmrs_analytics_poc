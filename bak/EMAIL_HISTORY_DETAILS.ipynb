{
 "cells": [
  {
   "cell_type": "code",
   "execution_count": 2,
   "metadata": {},
   "outputs": [],
   "source": [
    "import pandas as pd"
   ]
  },
  {
   "cell_type": "code",
   "execution_count": 3,
   "metadata": {},
   "outputs": [
    {
     "name": "stdout",
     "output_type": "stream",
     "text": [
      "456956\n"
     ]
    },
    {
     "data": {
      "text/html": [
       "<div>\n",
       "<style scoped>\n",
       "    .dataframe tbody tr th:only-of-type {\n",
       "        vertical-align: middle;\n",
       "    }\n",
       "\n",
       "    .dataframe tbody tr th {\n",
       "        vertical-align: top;\n",
       "    }\n",
       "\n",
       "    .dataframe thead th {\n",
       "        text-align: right;\n",
       "    }\n",
       "</style>\n",
       "<table border=\"1\" class=\"dataframe\">\n",
       "  <thead>\n",
       "    <tr style=\"text-align: right;\">\n",
       "      <th></th>\n",
       "      <th>UID</th>\n",
       "      <th>MODULE</th>\n",
       "      <th>KEY</th>\n",
       "      <th>VALUE</th>\n",
       "      <th>EMAIL_HISTORY_ID</th>\n",
       "    </tr>\n",
       "  </thead>\n",
       "  <tbody>\n",
       "    <tr>\n",
       "      <th>456952</th>\n",
       "      <td>457163</td>\n",
       "      <td>NaN</td>\n",
       "      <td>Financial_CF2</td>\n",
       "      <td>0</td>\n",
       "      <td>7716</td>\n",
       "    </tr>\n",
       "    <tr>\n",
       "      <th>456953</th>\n",
       "      <td>457164</td>\n",
       "      <td>NaN</td>\n",
       "      <td>Financial_CF3</td>\n",
       "      <td>18898</td>\n",
       "      <td>7716</td>\n",
       "    </tr>\n",
       "    <tr>\n",
       "      <th>456954</th>\n",
       "      <td>457165</td>\n",
       "      <td>NaN</td>\n",
       "      <td>txtFree1</td>\n",
       "      <td>NaN</td>\n",
       "      <td>7716</td>\n",
       "    </tr>\n",
       "    <tr>\n",
       "      <th>456955</th>\n",
       "      <td>457166</td>\n",
       "      <td>NaN</td>\n",
       "      <td>txtContingency</td>\n",
       "      <td>This request has included $0.00 pre-approved c...</td>\n",
       "      <td>7716</td>\n",
       "    </tr>\n",
       "  </tbody>\n",
       "</table>\n",
       "</div>"
      ],
      "text/plain": [
       "           UID  MODULE             KEY  \\\n",
       "456952  457163     NaN   Financial_CF2   \n",
       "456953  457164     NaN   Financial_CF3   \n",
       "456954  457165     NaN        txtFree1   \n",
       "456955  457166     NaN  txtContingency   \n",
       "\n",
       "                                                    VALUE  EMAIL_HISTORY_ID  \n",
       "456952                                                  0              7716  \n",
       "456953                                              18898              7716  \n",
       "456954                                                NaN              7716  \n",
       "456955  This request has included $0.00 pre-approved c...              7716  "
      ]
     },
     "metadata": {},
     "output_type": "display_data"
    }
   ],
   "source": [
    "table_name = 'EMAIL_HISTORY_DETAILS'\n",
    "CHECKLIST = pd.read_csv(f\"all_tables/{table_name}.csv\")    \n",
    "print(CHECKLIST.shape[0])        \n",
    "display(CHECKLIST.tail(4))"
   ]
  },
  {
   "cell_type": "code",
   "execution_count": 4,
   "metadata": {},
   "outputs": [
    {
     "data": {
      "text/html": [
       "<div>\n",
       "<style scoped>\n",
       "    .dataframe tbody tr th:only-of-type {\n",
       "        vertical-align: middle;\n",
       "    }\n",
       "\n",
       "    .dataframe tbody tr th {\n",
       "        vertical-align: top;\n",
       "    }\n",
       "\n",
       "    .dataframe thead th {\n",
       "        text-align: right;\n",
       "    }\n",
       "</style>\n",
       "<table border=\"1\" class=\"dataframe\">\n",
       "  <thead>\n",
       "    <tr style=\"text-align: right;\">\n",
       "      <th></th>\n",
       "      <th>UID</th>\n",
       "      <th>MODULE</th>\n",
       "      <th>KEY</th>\n",
       "      <th>VALUE</th>\n",
       "      <th>EMAIL_HISTORY_ID</th>\n",
       "    </tr>\n",
       "  </thead>\n",
       "  <tbody>\n",
       "    <tr>\n",
       "      <th>51786</th>\n",
       "      <td>51787</td>\n",
       "      <td>NaN</td>\n",
       "      <td>TenderP_5</td>\n",
       "      <td>NaN</td>\n",
       "      <td>2883</td>\n",
       "    </tr>\n",
       "  </tbody>\n",
       "</table>\n",
       "</div>"
      ],
      "text/plain": [
       "         UID  MODULE        KEY VALUE  EMAIL_HISTORY_ID\n",
       "51786  51787     NaN  TenderP_5   NaN              2883"
      ]
     },
     "execution_count": 4,
     "metadata": {},
     "output_type": "execute_result"
    }
   ],
   "source": [
    "CHECKLIST[CHECKLIST['UID']==51787]"
   ]
  },
  {
   "cell_type": "code",
   "execution_count": null,
   "metadata": {},
   "outputs": [],
   "source": []
  }
 ],
 "metadata": {
  "kernelspec": {
   "display_name": "Python 3",
   "language": "python",
   "name": "python3"
  },
  "language_info": {
   "codemirror_mode": {
    "name": "ipython",
    "version": 3
   },
   "file_extension": ".py",
   "mimetype": "text/x-python",
   "name": "python",
   "nbconvert_exporter": "python",
   "pygments_lexer": "ipython3",
   "version": "3.7.3"
  }
 },
 "nbformat": 4,
 "nbformat_minor": 4
}
