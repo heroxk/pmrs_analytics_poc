{
 "cells": [
  {
   "cell_type": "code",
   "execution_count": 6,
   "metadata": {},
   "outputs": [],
   "source": [
    "import pandas as pd"
   ]
  },
  {
   "cell_type": "code",
   "execution_count": 7,
   "metadata": {},
   "outputs": [
    {
     "name": "stdout",
     "output_type": "stream",
     "text": [
      "61341\n"
     ]
    },
    {
     "data": {
      "text/html": [
       "<div>\n",
       "<style scoped>\n",
       "    .dataframe tbody tr th:only-of-type {\n",
       "        vertical-align: middle;\n",
       "    }\n",
       "\n",
       "    .dataframe tbody tr th {\n",
       "        vertical-align: top;\n",
       "    }\n",
       "\n",
       "    .dataframe thead th {\n",
       "        text-align: right;\n",
       "    }\n",
       "</style>\n",
       "<table border=\"1\" class=\"dataframe\">\n",
       "  <thead>\n",
       "    <tr style=\"text-align: right;\">\n",
       "      <th></th>\n",
       "      <th>UID</th>\n",
       "      <th>CH_UID</th>\n",
       "      <th>CHANGE_OBJECT_ID</th>\n",
       "      <th>PROPERTY_NAME</th>\n",
       "      <th>PROPERTY_CAPTION</th>\n",
       "      <th>PREVIOUS_VALUE</th>\n",
       "      <th>CURRENT_VALUE</th>\n",
       "      <th>PARRENT_ID</th>\n",
       "      <th>CHANGE_ORDER_NUMBER</th>\n",
       "      <th>WP_UID</th>\n",
       "    </tr>\n",
       "  </thead>\n",
       "  <tbody>\n",
       "    <tr>\n",
       "      <th>61337</th>\n",
       "      <td>62259</td>\n",
       "      <td>62260</td>\n",
       "      <td>1015.0</td>\n",
       "      <td>Forecast Final Cost</td>\n",
       "      <td>NaN</td>\n",
       "      <td>360000.00</td>\n",
       "      <td>30012.00</td>\n",
       "      <td>NaN</td>\n",
       "      <td>20019545</td>\n",
       "      <td>51072.0</td>\n",
       "    </tr>\n",
       "    <tr>\n",
       "      <th>61338</th>\n",
       "      <td>62260</td>\n",
       "      <td>62261</td>\n",
       "      <td>1015.0</td>\n",
       "      <td>Forecast Final Cost</td>\n",
       "      <td>NaN</td>\n",
       "      <td>30012.00</td>\n",
       "      <td>130000.00</td>\n",
       "      <td>NaN</td>\n",
       "      <td>20019545</td>\n",
       "      <td>51072.0</td>\n",
       "    </tr>\n",
       "    <tr>\n",
       "      <th>61339</th>\n",
       "      <td>62261</td>\n",
       "      <td>62262</td>\n",
       "      <td>1015.0</td>\n",
       "      <td>Forecast Final Cost</td>\n",
       "      <td>NaN</td>\n",
       "      <td>130000.00</td>\n",
       "      <td>230000.00</td>\n",
       "      <td>NaN</td>\n",
       "      <td>20019545</td>\n",
       "      <td>51072.0</td>\n",
       "    </tr>\n",
       "    <tr>\n",
       "      <th>61340</th>\n",
       "      <td>62262</td>\n",
       "      <td>62263</td>\n",
       "      <td>1015.0</td>\n",
       "      <td>Forecast Final Cost</td>\n",
       "      <td>NaN</td>\n",
       "      <td>230000.00</td>\n",
       "      <td>330000.00</td>\n",
       "      <td>NaN</td>\n",
       "      <td>20019545</td>\n",
       "      <td>51072.0</td>\n",
       "    </tr>\n",
       "  </tbody>\n",
       "</table>\n",
       "</div>"
      ],
      "text/plain": [
       "         UID  CH_UID  CHANGE_OBJECT_ID        PROPERTY_NAME  PROPERTY_CAPTION  \\\n",
       "61337  62259   62260            1015.0  Forecast Final Cost               NaN   \n",
       "61338  62260   62261            1015.0  Forecast Final Cost               NaN   \n",
       "61339  62261   62262            1015.0  Forecast Final Cost               NaN   \n",
       "61340  62262   62263            1015.0  Forecast Final Cost               NaN   \n",
       "\n",
       "      PREVIOUS_VALUE CURRENT_VALUE  PARRENT_ID CHANGE_ORDER_NUMBER   WP_UID  \n",
       "61337      360000.00      30012.00         NaN            20019545  51072.0  \n",
       "61338       30012.00     130000.00         NaN            20019545  51072.0  \n",
       "61339      130000.00     230000.00         NaN            20019545  51072.0  \n",
       "61340      230000.00     330000.00         NaN            20019545  51072.0  "
      ]
     },
     "metadata": {},
     "output_type": "display_data"
    }
   ],
   "source": [
    "table_name = 'CHANGE_HISTORY_DETAIL'\n",
    "WP_TenderEvaluation = pd.read_csv(f\"all_tables/{table_name}.csv\")    \n",
    "print(WP_TenderEvaluation.shape[0])        \n",
    "display(WP_TenderEvaluation.tail(4))"
   ]
  },
  {
   "cell_type": "code",
   "execution_count": 8,
   "metadata": {},
   "outputs": [
    {
     "data": {
      "text/html": [
       "<div>\n",
       "<style scoped>\n",
       "    .dataframe tbody tr th:only-of-type {\n",
       "        vertical-align: middle;\n",
       "    }\n",
       "\n",
       "    .dataframe tbody tr th {\n",
       "        vertical-align: top;\n",
       "    }\n",
       "\n",
       "    .dataframe thead th {\n",
       "        text-align: right;\n",
       "    }\n",
       "</style>\n",
       "<table border=\"1\" class=\"dataframe\">\n",
       "  <thead>\n",
       "    <tr style=\"text-align: right;\">\n",
       "      <th></th>\n",
       "      <th>UID</th>\n",
       "      <th>CH_UID</th>\n",
       "      <th>CHANGE_OBJECT_ID</th>\n",
       "      <th>PROPERTY_NAME</th>\n",
       "      <th>PROPERTY_CAPTION</th>\n",
       "      <th>PREVIOUS_VALUE</th>\n",
       "      <th>CURRENT_VALUE</th>\n",
       "      <th>PARRENT_ID</th>\n",
       "      <th>CHANGE_ORDER_NUMBER</th>\n",
       "      <th>WP_UID</th>\n",
       "    </tr>\n",
       "  </thead>\n",
       "  <tbody>\n",
       "    <tr>\n",
       "      <th>50865</th>\n",
       "      <td>51787</td>\n",
       "      <td>51788</td>\n",
       "      <td>1120.0</td>\n",
       "      <td>Forecast Final Cost</td>\n",
       "      <td>NaN</td>\n",
       "      <td>1500000.00</td>\n",
       "      <td>920000.00</td>\n",
       "      <td>NaN</td>\n",
       "      <td>NaN</td>\n",
       "      <td>46997.0</td>\n",
       "    </tr>\n",
       "  </tbody>\n",
       "</table>\n",
       "</div>"
      ],
      "text/plain": [
       "         UID  CH_UID  CHANGE_OBJECT_ID        PROPERTY_NAME  PROPERTY_CAPTION  \\\n",
       "50865  51787   51788            1120.0  Forecast Final Cost               NaN   \n",
       "\n",
       "      PREVIOUS_VALUE CURRENT_VALUE  PARRENT_ID CHANGE_ORDER_NUMBER   WP_UID  \n",
       "50865     1500000.00     920000.00         NaN                 NaN  46997.0  "
      ]
     },
     "execution_count": 8,
     "metadata": {},
     "output_type": "execute_result"
    }
   ],
   "source": [
    "WP_TenderEvaluation[WP_TenderEvaluation['UID']==51787]"
   ]
  },
  {
   "cell_type": "code",
   "execution_count": null,
   "metadata": {},
   "outputs": [],
   "source": []
  }
 ],
 "metadata": {
  "kernelspec": {
   "display_name": "Python 3",
   "language": "python",
   "name": "python3"
  },
  "language_info": {
   "codemirror_mode": {
    "name": "ipython",
    "version": 3
   },
   "file_extension": ".py",
   "mimetype": "text/x-python",
   "name": "python",
   "nbconvert_exporter": "python",
   "pygments_lexer": "ipython3",
   "version": "3.7.3"
  }
 },
 "nbformat": 4,
 "nbformat_minor": 4
}
