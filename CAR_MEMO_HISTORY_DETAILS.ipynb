{
 "cells": [
  {
   "cell_type": "code",
   "execution_count": 4,
   "metadata": {},
   "outputs": [],
   "source": [
    "import pandas as pd"
   ]
  },
  {
   "cell_type": "code",
   "execution_count": 5,
   "metadata": {},
   "outputs": [
    {
     "name": "stdout",
     "output_type": "stream",
     "text": [
      "297731\n"
     ]
    },
    {
     "data": {
      "text/html": [
       "<div>\n",
       "<style scoped>\n",
       "    .dataframe tbody tr th:only-of-type {\n",
       "        vertical-align: middle;\n",
       "    }\n",
       "\n",
       "    .dataframe tbody tr th {\n",
       "        vertical-align: top;\n",
       "    }\n",
       "\n",
       "    .dataframe thead th {\n",
       "        text-align: right;\n",
       "    }\n",
       "</style>\n",
       "<table border=\"1\" class=\"dataframe\">\n",
       "  <thead>\n",
       "    <tr style=\"text-align: right;\">\n",
       "      <th></th>\n",
       "      <th>UID</th>\n",
       "      <th>MODULE</th>\n",
       "      <th>KEY</th>\n",
       "      <th>VALUE</th>\n",
       "      <th>CAR_MEMO_HISTORY_ID</th>\n",
       "    </tr>\n",
       "  </thead>\n",
       "  <tbody>\n",
       "    <tr>\n",
       "      <th>297727</th>\n",
       "      <td>300252</td>\n",
       "      <td>NaN</td>\n",
       "      <td>txtSignDateExt1</td>\n",
       "      <td>Date:            /            /2019</td>\n",
       "      <td>2433</td>\n",
       "    </tr>\n",
       "    <tr>\n",
       "      <th>297728</th>\n",
       "      <td>300253</td>\n",
       "      <td>NaN</td>\n",
       "      <td>txtSignDateExt2</td>\n",
       "      <td>Date:         /         /2019</td>\n",
       "      <td>2433</td>\n",
       "    </tr>\n",
       "    <tr>\n",
       "      <th>297729</th>\n",
       "      <td>300254</td>\n",
       "      <td>NaN</td>\n",
       "      <td>attention3</td>\n",
       "      <td>Paul Townsend</td>\n",
       "      <td>2433</td>\n",
       "    </tr>\n",
       "    <tr>\n",
       "      <th>297730</th>\n",
       "      <td>300255</td>\n",
       "      <td>NaN</td>\n",
       "      <td>attention4</td>\n",
       "      <td>CFO, Senior Vice President</td>\n",
       "      <td>2433</td>\n",
       "    </tr>\n",
       "  </tbody>\n",
       "</table>\n",
       "</div>"
      ],
      "text/plain": [
       "           UID  MODULE              KEY                                VALUE  \\\n",
       "297727  300252     NaN  txtSignDateExt1  Date:            /            /2019   \n",
       "297728  300253     NaN  txtSignDateExt2        Date:         /         /2019   \n",
       "297729  300254     NaN       attention3                        Paul Townsend   \n",
       "297730  300255     NaN       attention4           CFO, Senior Vice President   \n",
       "\n",
       "        CAR_MEMO_HISTORY_ID  \n",
       "297727                 2433  \n",
       "297728                 2433  \n",
       "297729                 2433  \n",
       "297730                 2433  "
      ]
     },
     "metadata": {},
     "output_type": "display_data"
    }
   ],
   "source": [
    "table_name = 'CAR_MEMO_HISTORY_DETAILS'\n",
    "WP_TenderEvaluation = pd.read_csv(f\"all_tables/{table_name}.csv\")    \n",
    "print(WP_TenderEvaluation.shape[0])        \n",
    "display(WP_TenderEvaluation.tail(4))"
   ]
  },
  {
   "cell_type": "code",
   "execution_count": 6,
   "metadata": {},
   "outputs": [
    {
     "data": {
      "text/html": [
       "<div>\n",
       "<style scoped>\n",
       "    .dataframe tbody tr th:only-of-type {\n",
       "        vertical-align: middle;\n",
       "    }\n",
       "\n",
       "    .dataframe tbody tr th {\n",
       "        vertical-align: top;\n",
       "    }\n",
       "\n",
       "    .dataframe thead th {\n",
       "        text-align: right;\n",
       "    }\n",
       "</style>\n",
       "<table border=\"1\" class=\"dataframe\">\n",
       "  <thead>\n",
       "    <tr style=\"text-align: right;\">\n",
       "      <th></th>\n",
       "      <th>UID</th>\n",
       "      <th>MODULE</th>\n",
       "      <th>KEY</th>\n",
       "      <th>VALUE</th>\n",
       "      <th>CAR_MEMO_HISTORY_ID</th>\n",
       "    </tr>\n",
       "  </thead>\n",
       "  <tbody>\n",
       "    <tr>\n",
       "      <th>49886</th>\n",
       "      <td>51787</td>\n",
       "      <td>NaN</td>\n",
       "      <td>TenderP_3</td>\n",
       "      <td>Neo Construct</td>\n",
       "      <td>419</td>\n",
       "    </tr>\n",
       "  </tbody>\n",
       "</table>\n",
       "</div>"
      ],
      "text/plain": [
       "         UID  MODULE        KEY          VALUE  CAR_MEMO_HISTORY_ID\n",
       "49886  51787     NaN  TenderP_3  Neo Construct                  419"
      ]
     },
     "execution_count": 6,
     "metadata": {},
     "output_type": "execute_result"
    }
   ],
   "source": [
    "WP_TenderEvaluation[WP_TenderEvaluation['UID']==51787]"
   ]
  },
  {
   "cell_type": "code",
   "execution_count": null,
   "metadata": {},
   "outputs": [],
   "source": []
  },
  {
   "cell_type": "code",
   "execution_count": null,
   "metadata": {},
   "outputs": [],
   "source": []
  }
 ],
 "metadata": {
  "kernelspec": {
   "display_name": "Python 3",
   "language": "python",
   "name": "python3"
  },
  "language_info": {
   "codemirror_mode": {
    "name": "ipython",
    "version": 3
   },
   "file_extension": ".py",
   "mimetype": "text/x-python",
   "name": "python",
   "nbconvert_exporter": "python",
   "pygments_lexer": "ipython3",
   "version": "3.7.3"
  }
 },
 "nbformat": 4,
 "nbformat_minor": 4
}
