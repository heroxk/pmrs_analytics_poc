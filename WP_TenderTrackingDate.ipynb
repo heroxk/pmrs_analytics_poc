{
 "cells": [
  {
   "cell_type": "code",
   "execution_count": 1,
   "metadata": {},
   "outputs": [],
   "source": [
    "import pandas as pd"
   ]
  },
  {
   "cell_type": "code",
   "execution_count": 2,
   "metadata": {},
   "outputs": [
    {
     "name": "stdout",
     "output_type": "stream",
     "text": [
      "169\n"
     ]
    },
    {
     "data": {
      "text/html": [
       "<div>\n",
       "<style scoped>\n",
       "    .dataframe tbody tr th:only-of-type {\n",
       "        vertical-align: middle;\n",
       "    }\n",
       "\n",
       "    .dataframe tbody tr th {\n",
       "        vertical-align: top;\n",
       "    }\n",
       "\n",
       "    .dataframe thead th {\n",
       "        text-align: right;\n",
       "    }\n",
       "</style>\n",
       "<table border=\"1\" class=\"dataframe\">\n",
       "  <thead>\n",
       "    <tr style=\"text-align: right;\">\n",
       "      <th></th>\n",
       "      <th>WorkPackageId</th>\n",
       "      <th>OpeningDate</th>\n",
       "      <th>CloseDate</th>\n",
       "    </tr>\n",
       "  </thead>\n",
       "  <tbody>\n",
       "    <tr>\n",
       "      <th>165</th>\n",
       "      <td>51810</td>\n",
       "      <td>2019-07-15 00:00:00</td>\n",
       "      <td>2019-07-15 23:59:59</td>\n",
       "    </tr>\n",
       "    <tr>\n",
       "      <th>166</th>\n",
       "      <td>51812</td>\n",
       "      <td>2019-07-18 00:00:00</td>\n",
       "      <td>2019-07-24 23:59:59</td>\n",
       "    </tr>\n",
       "    <tr>\n",
       "      <th>167</th>\n",
       "      <td>51826</td>\n",
       "      <td>2019-07-16 00:00:00</td>\n",
       "      <td>2019-07-16 23:59:59</td>\n",
       "    </tr>\n",
       "    <tr>\n",
       "      <th>168</th>\n",
       "      <td>51939</td>\n",
       "      <td>2019-07-22 00:00:00</td>\n",
       "      <td>2019-07-22 23:59:59</td>\n",
       "    </tr>\n",
       "  </tbody>\n",
       "</table>\n",
       "</div>"
      ],
      "text/plain": [
       "     WorkPackageId          OpeningDate            CloseDate\n",
       "165          51810  2019-07-15 00:00:00  2019-07-15 23:59:59\n",
       "166          51812  2019-07-18 00:00:00  2019-07-24 23:59:59\n",
       "167          51826  2019-07-16 00:00:00  2019-07-16 23:59:59\n",
       "168          51939  2019-07-22 00:00:00  2019-07-22 23:59:59"
      ]
     },
     "metadata": {},
     "output_type": "display_data"
    }
   ],
   "source": [
    "table_name = 'WP_TenderTrackingDate'\n",
    "WP_TenderTrackingDate = pd.read_csv(f\"all_tables/{table_name}.csv\")    \n",
    "print(WP_TenderTrackingDate.shape[0])        \n",
    "display(WP_TenderTrackingDate.tail(4))"
   ]
  },
  {
   "cell_type": "code",
   "execution_count": 3,
   "metadata": {},
   "outputs": [
    {
     "data": {
      "text/html": [
       "<div>\n",
       "<style scoped>\n",
       "    .dataframe tbody tr th:only-of-type {\n",
       "        vertical-align: middle;\n",
       "    }\n",
       "\n",
       "    .dataframe tbody tr th {\n",
       "        vertical-align: top;\n",
       "    }\n",
       "\n",
       "    .dataframe thead th {\n",
       "        text-align: right;\n",
       "    }\n",
       "</style>\n",
       "<table border=\"1\" class=\"dataframe\">\n",
       "  <thead>\n",
       "    <tr style=\"text-align: right;\">\n",
       "      <th></th>\n",
       "      <th>WorkPackageId</th>\n",
       "      <th>OpeningDate</th>\n",
       "      <th>CloseDate</th>\n",
       "    </tr>\n",
       "  </thead>\n",
       "  <tbody>\n",
       "    <tr>\n",
       "      <th>164</th>\n",
       "      <td>51787</td>\n",
       "      <td>2019-07-31 00:00:00</td>\n",
       "      <td>2019-07-31 23:59:59</td>\n",
       "    </tr>\n",
       "  </tbody>\n",
       "</table>\n",
       "</div>"
      ],
      "text/plain": [
       "     WorkPackageId          OpeningDate            CloseDate\n",
       "164          51787  2019-07-31 00:00:00  2019-07-31 23:59:59"
      ]
     },
     "execution_count": 3,
     "metadata": {},
     "output_type": "execute_result"
    }
   ],
   "source": [
    "WP_TenderTrackingDate[WP_TenderTrackingDate['WorkPackageId']==51787]"
   ]
  },
  {
   "cell_type": "code",
   "execution_count": null,
   "metadata": {},
   "outputs": [],
   "source": []
  }
 ],
 "metadata": {
  "kernelspec": {
   "display_name": "Python 3",
   "language": "python",
   "name": "python3"
  },
  "language_info": {
   "codemirror_mode": {
    "name": "ipython",
    "version": 3
   },
   "file_extension": ".py",
   "mimetype": "text/x-python",
   "name": "python",
   "nbconvert_exporter": "python",
   "pygments_lexer": "ipython3",
   "version": "3.7.3"
  }
 },
 "nbformat": 4,
 "nbformat_minor": 4
}
